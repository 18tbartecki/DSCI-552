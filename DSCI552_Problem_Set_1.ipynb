{
 "cells": [
  {
   "cell_type": "code",
   "execution_count": 253,
   "metadata": {},
   "outputs": [],
   "source": [
    "import pandas as pd\n",
    "import numpy as np\n",
    "import os\n",
    "\n",
    "CAR_PATH = os.path.join(\"datasets\", \"used_cars\")\n",
    "\n",
    "def load_car_data(car_path=CAR_PATH):\n",
    "    os.makedirs(car_path, exist_ok=True)\n",
    "    csv_path = os.path.join(car_path, \"used_car_dataset.csv\")\n",
    "    return pd.read_csv(csv_path)"
   ]
  },
  {
   "cell_type": "code",
   "execution_count": 254,
   "metadata": {},
   "outputs": [
    {
     "data": {
      "text/html": [
       "<div>\n",
       "<style scoped>\n",
       "    .dataframe tbody tr th:only-of-type {\n",
       "        vertical-align: middle;\n",
       "    }\n",
       "\n",
       "    .dataframe tbody tr th {\n",
       "        vertical-align: top;\n",
       "    }\n",
       "\n",
       "    .dataframe thead th {\n",
       "        text-align: right;\n",
       "    }\n",
       "</style>\n",
       "<table border=\"1\" class=\"dataframe\">\n",
       "  <thead>\n",
       "    <tr style=\"text-align: right;\">\n",
       "      <th></th>\n",
       "      <th>price</th>\n",
       "      <th>year</th>\n",
       "      <th>manufacturer</th>\n",
       "      <th>condition</th>\n",
       "      <th>cylinders</th>\n",
       "      <th>fuel</th>\n",
       "      <th>odometer</th>\n",
       "      <th>transmission</th>\n",
       "      <th>type</th>\n",
       "      <th>paint_color</th>\n",
       "      <th>F1</th>\n",
       "      <th>F2</th>\n",
       "      <th>F3</th>\n",
       "      <th>F4</th>\n",
       "    </tr>\n",
       "  </thead>\n",
       "  <tbody>\n",
       "    <tr>\n",
       "      <th>0</th>\n",
       "      <td>21978.0</td>\n",
       "      <td>2016.0</td>\n",
       "      <td>ford</td>\n",
       "      <td>like new</td>\n",
       "      <td>6 cylinders</td>\n",
       "      <td>gas</td>\n",
       "      <td>80813.0</td>\n",
       "      <td>automatic</td>\n",
       "      <td>SUV</td>\n",
       "      <td>black</td>\n",
       "      <td>138</td>\n",
       "      <td>2.472286</td>\n",
       "      <td>0.059031</td>\n",
       "      <td>b</td>\n",
       "    </tr>\n",
       "    <tr>\n",
       "      <th>1</th>\n",
       "      <td>4185.0</td>\n",
       "      <td>2008.0</td>\n",
       "      <td>ford</td>\n",
       "      <td>good</td>\n",
       "      <td>8 cylinders</td>\n",
       "      <td>gas</td>\n",
       "      <td>201800.0</td>\n",
       "      <td>automatic</td>\n",
       "      <td>SUV</td>\n",
       "      <td>white</td>\n",
       "      <td>415</td>\n",
       "      <td>2.285245</td>\n",
       "      <td>0.046328</td>\n",
       "      <td>c</td>\n",
       "    </tr>\n",
       "    <tr>\n",
       "      <th>2</th>\n",
       "      <td>7693.0</td>\n",
       "      <td>2002.0</td>\n",
       "      <td>ford</td>\n",
       "      <td>excellent</td>\n",
       "      <td>6 cylinders</td>\n",
       "      <td>gas</td>\n",
       "      <td>145000.0</td>\n",
       "      <td>automatic</td>\n",
       "      <td>pickup</td>\n",
       "      <td>white</td>\n",
       "      <td>535</td>\n",
       "      <td>1.861461</td>\n",
       "      <td>0.158554</td>\n",
       "      <td>b</td>\n",
       "    </tr>\n",
       "    <tr>\n",
       "      <th>3</th>\n",
       "      <td>15778.0</td>\n",
       "      <td>2016.0</td>\n",
       "      <td>ford</td>\n",
       "      <td>excellent</td>\n",
       "      <td>4 cylinders</td>\n",
       "      <td>gas</td>\n",
       "      <td>50103.0</td>\n",
       "      <td>automatic</td>\n",
       "      <td>sedan</td>\n",
       "      <td>white</td>\n",
       "      <td>3435</td>\n",
       "      <td>2.331671</td>\n",
       "      <td>0.213665</td>\n",
       "      <td>c</td>\n",
       "    </tr>\n",
       "    <tr>\n",
       "      <th>4</th>\n",
       "      <td>10520.0</td>\n",
       "      <td>2005.0</td>\n",
       "      <td>ford</td>\n",
       "      <td>good</td>\n",
       "      <td>8 cylinders</td>\n",
       "      <td>gas</td>\n",
       "      <td>207663.0</td>\n",
       "      <td>automatic</td>\n",
       "      <td>truck</td>\n",
       "      <td>white</td>\n",
       "      <td>1212</td>\n",
       "      <td>2.061082</td>\n",
       "      <td>0.388724</td>\n",
       "      <td>b</td>\n",
       "    </tr>\n",
       "  </tbody>\n",
       "</table>\n",
       "</div>"
      ],
      "text/plain": [
       "     price    year manufacturer  condition    cylinders fuel  odometer  \\\n",
       "0  21978.0  2016.0         ford   like new  6 cylinders  gas   80813.0   \n",
       "1   4185.0  2008.0         ford       good  8 cylinders  gas  201800.0   \n",
       "2   7693.0  2002.0         ford  excellent  6 cylinders  gas  145000.0   \n",
       "3  15778.0  2016.0         ford  excellent  4 cylinders  gas   50103.0   \n",
       "4  10520.0  2005.0         ford       good  8 cylinders  gas  207663.0   \n",
       "\n",
       "  transmission    type paint_color    F1        F2        F3 F4  \n",
       "0    automatic     SUV       black   138  2.472286  0.059031  b  \n",
       "1    automatic     SUV       white   415  2.285245  0.046328  c  \n",
       "2    automatic  pickup       white   535  1.861461  0.158554  b  \n",
       "3    automatic   sedan       white  3435  2.331671  0.213665  c  \n",
       "4    automatic   truck       white  1212  2.061082  0.388724  b  "
      ]
     },
     "execution_count": 254,
     "metadata": {},
     "output_type": "execute_result"
    }
   ],
   "source": [
    "cars = load_car_data()\n",
    "cars.head()"
   ]
  },
  {
   "cell_type": "code",
   "execution_count": 255,
   "metadata": {},
   "outputs": [
    {
     "name": "stdout",
     "output_type": "stream",
     "text": [
      "<class 'pandas.core.frame.DataFrame'>\n",
      "RangeIndex: 9997 entries, 0 to 9996\n",
      "Data columns (total 14 columns):\n",
      " #   Column        Non-Null Count  Dtype  \n",
      "---  ------        --------------  -----  \n",
      " 0   price         9997 non-null   float64\n",
      " 1   year          9997 non-null   float64\n",
      " 2   manufacturer  9997 non-null   object \n",
      " 3   condition     9997 non-null   object \n",
      " 4   cylinders     9997 non-null   object \n",
      " 5   fuel          9997 non-null   object \n",
      " 6   odometer      9305 non-null   float64\n",
      " 7   transmission  9997 non-null   object \n",
      " 8   type          9997 non-null   object \n",
      " 9   paint_color   9997 non-null   object \n",
      " 10  F1            9997 non-null   int64  \n",
      " 11  F2            9997 non-null   float64\n",
      " 12  F3            9997 non-null   float64\n",
      " 13  F4            9997 non-null   object \n",
      "dtypes: float64(5), int64(1), object(8)\n",
      "memory usage: 1.1+ MB\n"
     ]
    }
   ],
   "source": [
    "cars.info()\n",
    "cars = cars.drop([\"fuel\", \"F2\"], axis=1)"
   ]
  },
  {
   "cell_type": "code",
   "execution_count": 256,
   "metadata": {},
   "outputs": [
    {
     "name": "stdout",
     "output_type": "stream",
     "text": [
      "0.030308433133183942 , 0.16765359101104135\n",
      "0.3736713278278275\n"
     ]
    }
   ],
   "source": [
    "def detect_outliers(column):\n",
    "    Q1 = cars[column].quantile(.25)\n",
    "    Q3 = cars[column].quantile(.75)\n",
    "    IQR = (Q3 - Q1)\n",
    "    lower_range = Q1 - (1.5 * IQR)\n",
    "    upper_range = Q3 + (1.5 * IQR)\n",
    "    print(Q1 , \",\" , Q3)\n",
    "    return lower_range,upper_range\n",
    "\n",
    "lower_range,upper_range = detect_outliers(\"F3\")\n",
    "print(upper_range)\n",
    "\n",
    "cars.drop(cars[(cars.odometer > 999999)].index , inplace=True)\n",
    "cars.drop(cars[(cars.price > 100000) | (cars.price <= 5)].index , inplace=True)\n",
    "cars.drop(cars[(cars.F1 > 22000)].index , inplace=True)"
   ]
  },
  {
   "cell_type": "code",
   "execution_count": 257,
   "metadata": {},
   "outputs": [
    {
     "name": "stdout",
     "output_type": "stream",
     "text": [
      "<class 'pandas.core.frame.DataFrame'>\n",
      "Int64Index: 9846 entries, 0 to 9996\n",
      "Data columns (total 12 columns):\n",
      " #   Column        Non-Null Count  Dtype  \n",
      "---  ------        --------------  -----  \n",
      " 0   price         9846 non-null   float64\n",
      " 1   year          9846 non-null   float64\n",
      " 2   manufacturer  9846 non-null   object \n",
      " 3   condition     9846 non-null   object \n",
      " 4   cylinders     9846 non-null   object \n",
      " 5   odometer      9173 non-null   float64\n",
      " 6   transmission  9846 non-null   object \n",
      " 7   type          9846 non-null   object \n",
      " 8   paint_color   9846 non-null   object \n",
      " 9   F1            9846 non-null   int64  \n",
      " 10  F3            9846 non-null   float64\n",
      " 11  F4            9846 non-null   object \n",
      "dtypes: float64(4), int64(1), object(7)\n",
      "memory usage: 1000.0+ KB\n"
     ]
    }
   ],
   "source": [
    "cars[\"paint_color\"].value_counts()\n",
    "cars.info()"
   ]
  },
  {
   "cell_type": "code",
   "execution_count": 258,
   "metadata": {},
   "outputs": [
    {
     "data": {
      "text/plain": [
       "array([[<AxesSubplot:title={'center':'price'}>,\n",
       "        <AxesSubplot:title={'center':'year'}>],\n",
       "       [<AxesSubplot:title={'center':'odometer'}>,\n",
       "        <AxesSubplot:title={'center':'F1'}>],\n",
       "       [<AxesSubplot:title={'center':'F3'}>, <AxesSubplot:>]],\n",
       "      dtype=object)"
      ]
     },
     "execution_count": 258,
     "metadata": {},
     "output_type": "execute_result"
    },
    {
     "data": {
      "image/png": "[encoded data removed]",
      "text/plain": [
       "<Figure size 1440x1080 with 6 Axes>"
      ]
     },
     "metadata": {
      "needs_background": "light"
     },
     "output_type": "display_data"
    }
   ],
   "source": [
    "%matplotlib inline\n",
    "import matplotlib.pyplot as plt\n",
    "cars.hist(bins=50, figsize=(20,15))"
   ]
  },
  {
   "cell_type": "code",
   "execution_count": 259,
   "metadata": {},
   "outputs": [],
   "source": [
    "from sklearn.model_selection import train_test_split\n",
    "\n",
    "train_set, test_set = train_test_split(cars, test_size=0.2, random_state=42)"
   ]
  },
  {
   "cell_type": "code",
   "execution_count": 260,
   "metadata": {},
   "outputs": [],
   "source": [
    "cars_train_copy = train_set.copy()"
   ]
  },
  {
   "cell_type": "code",
   "execution_count": 261,
   "metadata": {},
   "outputs": [
    {
     "data": {
      "text/html": [
       "<div>\n",
       "<style scoped>\n",
       "    .dataframe tbody tr th:only-of-type {\n",
       "        vertical-align: middle;\n",
       "    }\n",
       "\n",
       "    .dataframe tbody tr th {\n",
       "        vertical-align: top;\n",
       "    }\n",
       "\n",
       "    .dataframe thead th {\n",
       "        text-align: right;\n",
       "    }\n",
       "</style>\n",
       "<table border=\"1\" class=\"dataframe\">\n",
       "  <thead>\n",
       "    <tr style=\"text-align: right;\">\n",
       "      <th></th>\n",
       "      <th>price</th>\n",
       "      <th>year</th>\n",
       "      <th>manufacturer</th>\n",
       "      <th>condition</th>\n",
       "      <th>cylinders</th>\n",
       "      <th>odometer</th>\n",
       "      <th>transmission</th>\n",
       "      <th>type</th>\n",
       "      <th>paint_color</th>\n",
       "      <th>F1</th>\n",
       "      <th>F3</th>\n",
       "      <th>F4</th>\n",
       "    </tr>\n",
       "  </thead>\n",
       "  <tbody>\n",
       "    <tr>\n",
       "      <th>5694</th>\n",
       "      <td>9916.0</td>\n",
       "      <td>2007.0</td>\n",
       "      <td>ford</td>\n",
       "      <td>excellent</td>\n",
       "      <td>8 cylinders</td>\n",
       "      <td>152390.0</td>\n",
       "      <td>automatic</td>\n",
       "      <td>pickup</td>\n",
       "      <td>white</td>\n",
       "      <td>1346</td>\n",
       "      <td>0.072477</td>\n",
       "      <td>b</td>\n",
       "    </tr>\n",
       "    <tr>\n",
       "      <th>636</th>\n",
       "      <td>5517.0</td>\n",
       "      <td>2012.0</td>\n",
       "      <td>subaru</td>\n",
       "      <td>good</td>\n",
       "      <td>4 cylinders</td>\n",
       "      <td>219000.0</td>\n",
       "      <td>automatic</td>\n",
       "      <td>sedan</td>\n",
       "      <td>silver</td>\n",
       "      <td>122</td>\n",
       "      <td>0.194140</td>\n",
       "      <td>b</td>\n",
       "    </tr>\n",
       "    <tr>\n",
       "      <th>1951</th>\n",
       "      <td>7517.0</td>\n",
       "      <td>2014.0</td>\n",
       "      <td>ford</td>\n",
       "      <td>excellent</td>\n",
       "      <td>4 cylinders</td>\n",
       "      <td>106213.0</td>\n",
       "      <td>automatic</td>\n",
       "      <td>sedan</td>\n",
       "      <td>black</td>\n",
       "      <td>540</td>\n",
       "      <td>0.079524</td>\n",
       "      <td>a</td>\n",
       "    </tr>\n",
       "    <tr>\n",
       "      <th>5752</th>\n",
       "      <td>10212.0</td>\n",
       "      <td>2015.0</td>\n",
       "      <td>ford</td>\n",
       "      <td>excellent</td>\n",
       "      <td>4 cylinders</td>\n",
       "      <td>163000.0</td>\n",
       "      <td>automatic</td>\n",
       "      <td>sedan</td>\n",
       "      <td>white</td>\n",
       "      <td>3337</td>\n",
       "      <td>0.239256</td>\n",
       "      <td>b</td>\n",
       "    </tr>\n",
       "    <tr>\n",
       "      <th>7397</th>\n",
       "      <td>5928.0</td>\n",
       "      <td>1972.0</td>\n",
       "      <td>ford</td>\n",
       "      <td>fair</td>\n",
       "      <td>8 cylinders</td>\n",
       "      <td>NaN</td>\n",
       "      <td>manual</td>\n",
       "      <td>pickup</td>\n",
       "      <td>red</td>\n",
       "      <td>455</td>\n",
       "      <td>-0.013003</td>\n",
       "      <td>a</td>\n",
       "    </tr>\n",
       "    <tr>\n",
       "      <th>...</th>\n",
       "      <td>...</td>\n",
       "      <td>...</td>\n",
       "      <td>...</td>\n",
       "      <td>...</td>\n",
       "      <td>...</td>\n",
       "      <td>...</td>\n",
       "      <td>...</td>\n",
       "      <td>...</td>\n",
       "      <td>...</td>\n",
       "      <td>...</td>\n",
       "      <td>...</td>\n",
       "      <td>...</td>\n",
       "    </tr>\n",
       "    <tr>\n",
       "      <th>5824</th>\n",
       "      <td>4042.0</td>\n",
       "      <td>2008.0</td>\n",
       "      <td>subaru</td>\n",
       "      <td>good</td>\n",
       "      <td>4 cylinders</td>\n",
       "      <td>163111.0</td>\n",
       "      <td>automatic</td>\n",
       "      <td>sedan</td>\n",
       "      <td>blue</td>\n",
       "      <td>832</td>\n",
       "      <td>0.011655</td>\n",
       "      <td>c</td>\n",
       "    </tr>\n",
       "    <tr>\n",
       "      <th>5275</th>\n",
       "      <td>5513.0</td>\n",
       "      <td>2008.0</td>\n",
       "      <td>ford</td>\n",
       "      <td>excellent</td>\n",
       "      <td>6 cylinders</td>\n",
       "      <td>186189.0</td>\n",
       "      <td>automatic</td>\n",
       "      <td>SUV</td>\n",
       "      <td>silver</td>\n",
       "      <td>95</td>\n",
       "      <td>0.047308</td>\n",
       "      <td>b</td>\n",
       "    </tr>\n",
       "    <tr>\n",
       "      <th>5476</th>\n",
       "      <td>9314.0</td>\n",
       "      <td>1990.0</td>\n",
       "      <td>ford</td>\n",
       "      <td>good</td>\n",
       "      <td>8 cylinders</td>\n",
       "      <td>56233.0</td>\n",
       "      <td>manual</td>\n",
       "      <td>truck</td>\n",
       "      <td>white</td>\n",
       "      <td>229</td>\n",
       "      <td>0.164413</td>\n",
       "      <td>c</td>\n",
       "    </tr>\n",
       "    <tr>\n",
       "      <th>873</th>\n",
       "      <td>7419.0</td>\n",
       "      <td>2012.0</td>\n",
       "      <td>ford</td>\n",
       "      <td>excellent</td>\n",
       "      <td>4 cylinders</td>\n",
       "      <td>NaN</td>\n",
       "      <td>automatic</td>\n",
       "      <td>SUV</td>\n",
       "      <td>black</td>\n",
       "      <td>4509</td>\n",
       "      <td>0.020210</td>\n",
       "      <td>b</td>\n",
       "    </tr>\n",
       "    <tr>\n",
       "      <th>7384</th>\n",
       "      <td>6896.0</td>\n",
       "      <td>1990.0</td>\n",
       "      <td>ford</td>\n",
       "      <td>good</td>\n",
       "      <td>8 cylinders</td>\n",
       "      <td>177870.0</td>\n",
       "      <td>automatic</td>\n",
       "      <td>truck</td>\n",
       "      <td>white</td>\n",
       "      <td>502</td>\n",
       "      <td>0.060996</td>\n",
       "      <td>c</td>\n",
       "    </tr>\n",
       "  </tbody>\n",
       "</table>\n",
       "<p>7876 rows × 12 columns</p>\n",
       "</div>"
      ],
      "text/plain": [
       "        price    year manufacturer  condition    cylinders  odometer  \\\n",
       "5694   9916.0  2007.0         ford  excellent  8 cylinders  152390.0   \n",
       "636    5517.0  2012.0       subaru       good  4 cylinders  219000.0   \n",
       "1951   7517.0  2014.0         ford  excellent  4 cylinders  106213.0   \n",
       "5752  10212.0  2015.0         ford  excellent  4 cylinders  163000.0   \n",
       "7397   5928.0  1972.0         ford       fair  8 cylinders       NaN   \n",
       "...       ...     ...          ...        ...          ...       ...   \n",
       "5824   4042.0  2008.0       subaru       good  4 cylinders  163111.0   \n",
       "5275   5513.0  2008.0         ford  excellent  6 cylinders  186189.0   \n",
       "5476   9314.0  1990.0         ford       good  8 cylinders   56233.0   \n",
       "873    7419.0  2012.0         ford  excellent  4 cylinders       NaN   \n",
       "7384   6896.0  1990.0         ford       good  8 cylinders  177870.0   \n",
       "\n",
       "     transmission    type paint_color    F1        F3 F4  \n",
       "5694    automatic  pickup       white  1346  0.072477  b  \n",
       "636     automatic   sedan      silver   122  0.194140  b  \n",
       "1951    automatic   sedan       black   540  0.079524  a  \n",
       "5752    automatic   sedan       white  3337  0.239256  b  \n",
       "7397       manual  pickup         red   455 -0.013003  a  \n",
       "...           ...     ...         ...   ...       ... ..  \n",
       "5824    automatic   sedan        blue   832  0.011655  c  \n",
       "5275    automatic     SUV      silver    95  0.047308  b  \n",
       "5476       manual   truck       white   229  0.164413  c  \n",
       "873     automatic     SUV       black  4509  0.020210  b  \n",
       "7384    automatic   truck       white   502  0.060996  c  \n",
       "\n",
       "[7876 rows x 12 columns]"
      ]
     },
     "execution_count": 261,
     "metadata": {},
     "output_type": "execute_result"
    },
    {
     "data": {
      "image/png": "[encoded data removed]",
      "text/plain": [
       "<Figure size 432x288 with 1 Axes>"
      ]
     },
     "metadata": {
      "needs_background": "light"
     },
     "output_type": "display_data"
    }
   ],
   "source": [
    "cars_train_copy.plot(kind=\"scatter\", x=\"F4\", y=\"price\")\n",
    "cars_train_copy"
   ]
  },
  {
   "cell_type": "code",
   "execution_count": 262,
   "metadata": {},
   "outputs": [
    {
     "data": {
      "text/plain": [
       "price       1.000000\n",
       "year        0.358874\n",
       "F1          0.220838\n",
       "F3          0.118506\n",
       "odometer   -0.500463\n",
       "Name: price, dtype: float64"
      ]
     },
     "execution_count": 262,
     "metadata": {},
     "output_type": "execute_result"
    }
   ],
   "source": [
    "corr_matrix = cars_train_copy.corr()\n",
    "corr_matrix[\"price\"].sort_values(ascending=False)"
   ]
  },
  {
   "cell_type": "code",
   "execution_count": 263,
   "metadata": {
    "scrolled": true
   },
   "outputs": [
    {
     "data": {
      "text/plain": [
       "array([[<AxesSubplot:xlabel='price', ylabel='price'>,\n",
       "        <AxesSubplot:xlabel='year', ylabel='price'>,\n",
       "        <AxesSubplot:xlabel='F1', ylabel='price'>,\n",
       "        <AxesSubplot:xlabel='F3', ylabel='price'>],\n",
       "       [<AxesSubplot:xlabel='price', ylabel='year'>,\n",
       "        <AxesSubplot:xlabel='year', ylabel='year'>,\n",
       "        <AxesSubplot:xlabel='F1', ylabel='year'>,\n",
       "        <AxesSubplot:xlabel='F3', ylabel='year'>],\n",
       "       [<AxesSubplot:xlabel='price', ylabel='F1'>,\n",
       "        <AxesSubplot:xlabel='year', ylabel='F1'>,\n",
       "        <AxesSubplot:xlabel='F1', ylabel='F1'>,\n",
       "        <AxesSubplot:xlabel='F3', ylabel='F1'>],\n",
       "       [<AxesSubplot:xlabel='price', ylabel='F3'>,\n",
       "        <AxesSubplot:xlabel='year', ylabel='F3'>,\n",
       "        <AxesSubplot:xlabel='F1', ylabel='F3'>,\n",
       "        <AxesSubplot:xlabel='F3', ylabel='F3'>]], dtype=object)"
      ]
     },
     "execution_count": 263,
     "metadata": {},
     "output_type": "execute_result"
    },
    {
     "data": {
      "image/png": "[encoded data removed]",
      "text/plain": [
       "<Figure size 864x576 with 16 Axes>"
      ]
     },
     "metadata": {
      "needs_background": "light"
     },
     "output_type": "display_data"
    }
   ],
   "source": [
    "from pandas.plotting import scatter_matrix\n",
    "\n",
    "attributes = [\"price\", \"year\", \"F1\", \"F3\"]\n",
    "scatter_matrix(cars_train_copy[attributes], figsize=(12, 8))"
   ]
  },
  {
   "cell_type": "code",
   "execution_count": 264,
   "metadata": {},
   "outputs": [],
   "source": [
    "cars = train_set.drop(\"price\", axis=1)\n",
    "cars_labels = train_set[\"price\"].copy()\n",
    "cars_test_y = test_set[\"price\"].copy()"
   ]
  },
  {
   "cell_type": "code",
   "execution_count": 265,
   "metadata": {},
   "outputs": [],
   "source": [
    "mean = cars[\"odometer\"].mean()\n",
    "cars[\"odometer\"].fillna(mean, inplace=True)"
   ]
  },
  {
   "cell_type": "code",
   "execution_count": 266,
   "metadata": {},
   "outputs": [
    {
     "data": {
      "text/html": [
       "<div>\n",
       "<style scoped>\n",
       "    .dataframe tbody tr th:only-of-type {\n",
       "        vertical-align: middle;\n",
       "    }\n",
       "\n",
       "    .dataframe tbody tr th {\n",
       "        vertical-align: top;\n",
       "    }\n",
       "\n",
       "    .dataframe thead th {\n",
       "        text-align: right;\n",
       "    }\n",
       "</style>\n",
       "<table border=\"1\" class=\"dataframe\">\n",
       "  <thead>\n",
       "    <tr style=\"text-align: right;\">\n",
       "      <th></th>\n",
       "      <th>F4</th>\n",
       "    </tr>\n",
       "  </thead>\n",
       "  <tbody>\n",
       "    <tr>\n",
       "      <th>5694</th>\n",
       "      <td>b</td>\n",
       "    </tr>\n",
       "    <tr>\n",
       "      <th>636</th>\n",
       "      <td>b</td>\n",
       "    </tr>\n",
       "    <tr>\n",
       "      <th>1951</th>\n",
       "      <td>a</td>\n",
       "    </tr>\n",
       "    <tr>\n",
       "      <th>5752</th>\n",
       "      <td>b</td>\n",
       "    </tr>\n",
       "    <tr>\n",
       "      <th>7397</th>\n",
       "      <td>a</td>\n",
       "    </tr>\n",
       "    <tr>\n",
       "      <th>8729</th>\n",
       "      <td>a</td>\n",
       "    </tr>\n",
       "    <tr>\n",
       "      <th>1272</th>\n",
       "      <td>a</td>\n",
       "    </tr>\n",
       "    <tr>\n",
       "      <th>1213</th>\n",
       "      <td>c</td>\n",
       "    </tr>\n",
       "    <tr>\n",
       "      <th>5819</th>\n",
       "      <td>c</td>\n",
       "    </tr>\n",
       "    <tr>\n",
       "      <th>3975</th>\n",
       "      <td>a</td>\n",
       "    </tr>\n",
       "  </tbody>\n",
       "</table>\n",
       "</div>"
      ],
      "text/plain": [
       "     F4\n",
       "5694  b\n",
       "636   b\n",
       "1951  a\n",
       "5752  b\n",
       "7397  a\n",
       "8729  a\n",
       "1272  a\n",
       "1213  c\n",
       "5819  c\n",
       "3975  a"
      ]
     },
     "execution_count": 266,
     "metadata": {},
     "output_type": "execute_result"
    }
   ],
   "source": [
    "cars_f4 = cars[[\"F4\"]]\n",
    "cars_f4.head(10)"
   ]
  },
  {
   "cell_type": "code",
   "execution_count": 267,
   "metadata": {},
   "outputs": [
    {
     "data": {
      "text/plain": [
       "array([[1.],\n",
       "       [1.],\n",
       "       [0.],\n",
       "       [1.],\n",
       "       [0.],\n",
       "       [0.],\n",
       "       [0.],\n",
       "       [2.],\n",
       "       [2.],\n",
       "       [0.]])"
      ]
     },
     "execution_count": 267,
     "metadata": {},
     "output_type": "execute_result"
    }
   ],
   "source": [
    "from sklearn.preprocessing import OrdinalEncoder\n",
    "ordinal_encoder = OrdinalEncoder()\n",
    "cars_f4_encoded = ordinal_encoder.fit_transform(cars_f4)\n",
    "cars_f4_encoded[:10]"
   ]
  },
  {
   "cell_type": "code",
   "execution_count": 268,
   "metadata": {},
   "outputs": [],
   "source": [
    "# from sklearn.preprocessing import OrdinalEncoder\n",
    "\n",
    "# cars_cylinder = cars[[\"cylinders\"]]\n",
    "\n",
    "# ordinal_encoder = OrdinalEncoder()\n",
    "# cars_cylinder_encoded = ordinal_encoder.fit_transform(cars_cylinder)\n",
    "# cars_cylinder_encoded[:10]"
   ]
  },
  {
   "cell_type": "code",
   "execution_count": 269,
   "metadata": {},
   "outputs": [
    {
     "data": {
      "text/plain": [
       "[array(['a', 'b', 'c'], dtype=object)]"
      ]
     },
     "execution_count": 269,
     "metadata": {},
     "output_type": "execute_result"
    }
   ],
   "source": [
    "ordinal_encoder.categories_"
   ]
  },
  {
   "cell_type": "code",
   "execution_count": 270,
   "metadata": {},
   "outputs": [
    {
     "data": {
      "text/html": [
       "<div>\n",
       "<style scoped>\n",
       "    .dataframe tbody tr th:only-of-type {\n",
       "        vertical-align: middle;\n",
       "    }\n",
       "\n",
       "    .dataframe tbody tr th {\n",
       "        vertical-align: top;\n",
       "    }\n",
       "\n",
       "    .dataframe thead th {\n",
       "        text-align: right;\n",
       "    }\n",
       "</style>\n",
       "<table border=\"1\" class=\"dataframe\">\n",
       "  <thead>\n",
       "    <tr style=\"text-align: right;\">\n",
       "      <th></th>\n",
       "      <th>year</th>\n",
       "      <th>manufacturer</th>\n",
       "      <th>condition</th>\n",
       "      <th>cylinders</th>\n",
       "      <th>odometer</th>\n",
       "      <th>transmission</th>\n",
       "      <th>type</th>\n",
       "      <th>paint_color</th>\n",
       "      <th>F1</th>\n",
       "      <th>F3</th>\n",
       "      <th>F4</th>\n",
       "    </tr>\n",
       "  </thead>\n",
       "  <tbody>\n",
       "    <tr>\n",
       "      <th>5694</th>\n",
       "      <td>2007.0</td>\n",
       "      <td>ford</td>\n",
       "      <td>excellent</td>\n",
       "      <td>8 cylinders</td>\n",
       "      <td>152390.000000</td>\n",
       "      <td>automatic</td>\n",
       "      <td>pickup</td>\n",
       "      <td>white</td>\n",
       "      <td>1346</td>\n",
       "      <td>0.072477</td>\n",
       "      <td>b</td>\n",
       "    </tr>\n",
       "    <tr>\n",
       "      <th>636</th>\n",
       "      <td>2012.0</td>\n",
       "      <td>subaru</td>\n",
       "      <td>good</td>\n",
       "      <td>4 cylinders</td>\n",
       "      <td>219000.000000</td>\n",
       "      <td>automatic</td>\n",
       "      <td>sedan</td>\n",
       "      <td>silver</td>\n",
       "      <td>122</td>\n",
       "      <td>0.194140</td>\n",
       "      <td>b</td>\n",
       "    </tr>\n",
       "    <tr>\n",
       "      <th>1951</th>\n",
       "      <td>2014.0</td>\n",
       "      <td>ford</td>\n",
       "      <td>excellent</td>\n",
       "      <td>4 cylinders</td>\n",
       "      <td>106213.000000</td>\n",
       "      <td>automatic</td>\n",
       "      <td>sedan</td>\n",
       "      <td>black</td>\n",
       "      <td>540</td>\n",
       "      <td>0.079524</td>\n",
       "      <td>a</td>\n",
       "    </tr>\n",
       "    <tr>\n",
       "      <th>5752</th>\n",
       "      <td>2015.0</td>\n",
       "      <td>ford</td>\n",
       "      <td>excellent</td>\n",
       "      <td>4 cylinders</td>\n",
       "      <td>163000.000000</td>\n",
       "      <td>automatic</td>\n",
       "      <td>sedan</td>\n",
       "      <td>white</td>\n",
       "      <td>3337</td>\n",
       "      <td>0.239256</td>\n",
       "      <td>b</td>\n",
       "    </tr>\n",
       "    <tr>\n",
       "      <th>7397</th>\n",
       "      <td>1972.0</td>\n",
       "      <td>ford</td>\n",
       "      <td>fair</td>\n",
       "      <td>8 cylinders</td>\n",
       "      <td>111360.633229</td>\n",
       "      <td>manual</td>\n",
       "      <td>pickup</td>\n",
       "      <td>red</td>\n",
       "      <td>455</td>\n",
       "      <td>-0.013003</td>\n",
       "      <td>a</td>\n",
       "    </tr>\n",
       "  </tbody>\n",
       "</table>\n",
       "</div>"
      ],
      "text/plain": [
       "        year manufacturer  condition    cylinders       odometer transmission  \\\n",
       "5694  2007.0         ford  excellent  8 cylinders  152390.000000    automatic   \n",
       "636   2012.0       subaru       good  4 cylinders  219000.000000    automatic   \n",
       "1951  2014.0         ford  excellent  4 cylinders  106213.000000    automatic   \n",
       "5752  2015.0         ford  excellent  4 cylinders  163000.000000    automatic   \n",
       "7397  1972.0         ford       fair  8 cylinders  111360.633229       manual   \n",
       "\n",
       "        type paint_color    F1        F3 F4  \n",
       "5694  pickup       white  1346  0.072477  b  \n",
       "636    sedan      silver   122  0.194140  b  \n",
       "1951   sedan       black   540  0.079524  a  \n",
       "5752   sedan       white  3337  0.239256  b  \n",
       "7397  pickup         red   455 -0.013003  a  "
      ]
     },
     "execution_count": 270,
     "metadata": {},
     "output_type": "execute_result"
    }
   ],
   "source": [
    "cars.head()"
   ]
  },
  {
   "cell_type": "code",
   "execution_count": 271,
   "metadata": {},
   "outputs": [
    {
     "data": {
      "text/plain": [
       "[array(['excellent', 'fair', 'good', 'like new'], dtype=object)]"
      ]
     },
     "execution_count": 271,
     "metadata": {},
     "output_type": "execute_result"
    }
   ],
   "source": [
    "from sklearn.preprocessing import OrdinalEncoder\n",
    "\n",
    "cars_condition = cars[[\"condition\"]]\n",
    "\n",
    "ordinal_encoder = OrdinalEncoder()\n",
    "cars_condition_encoded = ordinal_encoder.fit_transform(cars_condition)\n",
    "cars_condition_encoded[:10]\n",
    "ordinal_encoder.categories_"
   ]
  },
  {
   "cell_type": "code",
   "execution_count": 272,
   "metadata": {},
   "outputs": [],
   "source": [
    "cars_num = cars.drop([\"condition\", \"cylinders\", \"transmission\", \"type\", \"paint_color\", \"manufacturer\", \"F4\"], axis=1)"
   ]
  },
  {
   "cell_type": "code",
   "execution_count": 273,
   "metadata": {},
   "outputs": [
    {
     "data": {
      "text/html": [
       "<div>\n",
       "<style scoped>\n",
       "    .dataframe tbody tr th:only-of-type {\n",
       "        vertical-align: middle;\n",
       "    }\n",
       "\n",
       "    .dataframe tbody tr th {\n",
       "        vertical-align: top;\n",
       "    }\n",
       "\n",
       "    .dataframe thead th {\n",
       "        text-align: right;\n",
       "    }\n",
       "</style>\n",
       "<table border=\"1\" class=\"dataframe\">\n",
       "  <thead>\n",
       "    <tr style=\"text-align: right;\">\n",
       "      <th></th>\n",
       "      <th>year</th>\n",
       "      <th>odometer</th>\n",
       "      <th>F1</th>\n",
       "      <th>F3</th>\n",
       "    </tr>\n",
       "  </thead>\n",
       "  <tbody>\n",
       "    <tr>\n",
       "      <th>5694</th>\n",
       "      <td>2007.0</td>\n",
       "      <td>152390.000000</td>\n",
       "      <td>1346</td>\n",
       "      <td>0.072477</td>\n",
       "    </tr>\n",
       "    <tr>\n",
       "      <th>636</th>\n",
       "      <td>2012.0</td>\n",
       "      <td>219000.000000</td>\n",
       "      <td>122</td>\n",
       "      <td>0.194140</td>\n",
       "    </tr>\n",
       "    <tr>\n",
       "      <th>1951</th>\n",
       "      <td>2014.0</td>\n",
       "      <td>106213.000000</td>\n",
       "      <td>540</td>\n",
       "      <td>0.079524</td>\n",
       "    </tr>\n",
       "    <tr>\n",
       "      <th>5752</th>\n",
       "      <td>2015.0</td>\n",
       "      <td>163000.000000</td>\n",
       "      <td>3337</td>\n",
       "      <td>0.239256</td>\n",
       "    </tr>\n",
       "    <tr>\n",
       "      <th>7397</th>\n",
       "      <td>1972.0</td>\n",
       "      <td>111360.633229</td>\n",
       "      <td>455</td>\n",
       "      <td>-0.013003</td>\n",
       "    </tr>\n",
       "    <tr>\n",
       "      <th>...</th>\n",
       "      <td>...</td>\n",
       "      <td>...</td>\n",
       "      <td>...</td>\n",
       "      <td>...</td>\n",
       "    </tr>\n",
       "    <tr>\n",
       "      <th>5824</th>\n",
       "      <td>2008.0</td>\n",
       "      <td>163111.000000</td>\n",
       "      <td>832</td>\n",
       "      <td>0.011655</td>\n",
       "    </tr>\n",
       "    <tr>\n",
       "      <th>5275</th>\n",
       "      <td>2008.0</td>\n",
       "      <td>186189.000000</td>\n",
       "      <td>95</td>\n",
       "      <td>0.047308</td>\n",
       "    </tr>\n",
       "    <tr>\n",
       "      <th>5476</th>\n",
       "      <td>1990.0</td>\n",
       "      <td>56233.000000</td>\n",
       "      <td>229</td>\n",
       "      <td>0.164413</td>\n",
       "    </tr>\n",
       "    <tr>\n",
       "      <th>873</th>\n",
       "      <td>2012.0</td>\n",
       "      <td>111360.633229</td>\n",
       "      <td>4509</td>\n",
       "      <td>0.020210</td>\n",
       "    </tr>\n",
       "    <tr>\n",
       "      <th>7384</th>\n",
       "      <td>1990.0</td>\n",
       "      <td>177870.000000</td>\n",
       "      <td>502</td>\n",
       "      <td>0.060996</td>\n",
       "    </tr>\n",
       "  </tbody>\n",
       "</table>\n",
       "<p>7876 rows × 4 columns</p>\n",
       "</div>"
      ],
      "text/plain": [
       "        year       odometer    F1        F3\n",
       "5694  2007.0  152390.000000  1346  0.072477\n",
       "636   2012.0  219000.000000   122  0.194140\n",
       "1951  2014.0  106213.000000   540  0.079524\n",
       "5752  2015.0  163000.000000  3337  0.239256\n",
       "7397  1972.0  111360.633229   455 -0.013003\n",
       "...      ...            ...   ...       ...\n",
       "5824  2008.0  163111.000000   832  0.011655\n",
       "5275  2008.0  186189.000000    95  0.047308\n",
       "5476  1990.0   56233.000000   229  0.164413\n",
       "873   2012.0  111360.633229  4509  0.020210\n",
       "7384  1990.0  177870.000000   502  0.060996\n",
       "\n",
       "[7876 rows x 4 columns]"
      ]
     },
     "execution_count": 273,
     "metadata": {},
     "output_type": "execute_result"
    }
   ],
   "source": [
    "cars_num"
   ]
  },
  {
   "cell_type": "code",
   "execution_count": 274,
   "metadata": {},
   "outputs": [],
   "source": [
    "cars_num[\"year\"] = 2021 - cars_num[\"year\"]"
   ]
  },
  {
   "cell_type": "code",
   "execution_count": 275,
   "metadata": {},
   "outputs": [
    {
     "data": {
      "text/html": [
       "<div>\n",
       "<style scoped>\n",
       "    .dataframe tbody tr th:only-of-type {\n",
       "        vertical-align: middle;\n",
       "    }\n",
       "\n",
       "    .dataframe tbody tr th {\n",
       "        vertical-align: top;\n",
       "    }\n",
       "\n",
       "    .dataframe thead th {\n",
       "        text-align: right;\n",
       "    }\n",
       "</style>\n",
       "<table border=\"1\" class=\"dataframe\">\n",
       "  <thead>\n",
       "    <tr style=\"text-align: right;\">\n",
       "      <th></th>\n",
       "      <th>year</th>\n",
       "      <th>odometer</th>\n",
       "      <th>F1</th>\n",
       "      <th>F3</th>\n",
       "    </tr>\n",
       "  </thead>\n",
       "  <tbody>\n",
       "    <tr>\n",
       "      <th>5694</th>\n",
       "      <td>14.0</td>\n",
       "      <td>152390.000000</td>\n",
       "      <td>1346</td>\n",
       "      <td>0.072477</td>\n",
       "    </tr>\n",
       "    <tr>\n",
       "      <th>636</th>\n",
       "      <td>9.0</td>\n",
       "      <td>219000.000000</td>\n",
       "      <td>122</td>\n",
       "      <td>0.194140</td>\n",
       "    </tr>\n",
       "    <tr>\n",
       "      <th>1951</th>\n",
       "      <td>7.0</td>\n",
       "      <td>106213.000000</td>\n",
       "      <td>540</td>\n",
       "      <td>0.079524</td>\n",
       "    </tr>\n",
       "    <tr>\n",
       "      <th>5752</th>\n",
       "      <td>6.0</td>\n",
       "      <td>163000.000000</td>\n",
       "      <td>3337</td>\n",
       "      <td>0.239256</td>\n",
       "    </tr>\n",
       "    <tr>\n",
       "      <th>7397</th>\n",
       "      <td>49.0</td>\n",
       "      <td>111360.633229</td>\n",
       "      <td>455</td>\n",
       "      <td>-0.013003</td>\n",
       "    </tr>\n",
       "    <tr>\n",
       "      <th>...</th>\n",
       "      <td>...</td>\n",
       "      <td>...</td>\n",
       "      <td>...</td>\n",
       "      <td>...</td>\n",
       "    </tr>\n",
       "    <tr>\n",
       "      <th>5824</th>\n",
       "      <td>13.0</td>\n",
       "      <td>163111.000000</td>\n",
       "      <td>832</td>\n",
       "      <td>0.011655</td>\n",
       "    </tr>\n",
       "    <tr>\n",
       "      <th>5275</th>\n",
       "      <td>13.0</td>\n",
       "      <td>186189.000000</td>\n",
       "      <td>95</td>\n",
       "      <td>0.047308</td>\n",
       "    </tr>\n",
       "    <tr>\n",
       "      <th>5476</th>\n",
       "      <td>31.0</td>\n",
       "      <td>56233.000000</td>\n",
       "      <td>229</td>\n",
       "      <td>0.164413</td>\n",
       "    </tr>\n",
       "    <tr>\n",
       "      <th>873</th>\n",
       "      <td>9.0</td>\n",
       "      <td>111360.633229</td>\n",
       "      <td>4509</td>\n",
       "      <td>0.020210</td>\n",
       "    </tr>\n",
       "    <tr>\n",
       "      <th>7384</th>\n",
       "      <td>31.0</td>\n",
       "      <td>177870.000000</td>\n",
       "      <td>502</td>\n",
       "      <td>0.060996</td>\n",
       "    </tr>\n",
       "  </tbody>\n",
       "</table>\n",
       "<p>7876 rows × 4 columns</p>\n",
       "</div>"
      ],
      "text/plain": [
       "      year       odometer    F1        F3\n",
       "5694  14.0  152390.000000  1346  0.072477\n",
       "636    9.0  219000.000000   122  0.194140\n",
       "1951   7.0  106213.000000   540  0.079524\n",
       "5752   6.0  163000.000000  3337  0.239256\n",
       "7397  49.0  111360.633229   455 -0.013003\n",
       "...    ...            ...   ...       ...\n",
       "5824  13.0  163111.000000   832  0.011655\n",
       "5275  13.0  186189.000000    95  0.047308\n",
       "5476  31.0   56233.000000   229  0.164413\n",
       "873    9.0  111360.633229  4509  0.020210\n",
       "7384  31.0  177870.000000   502  0.060996\n",
       "\n",
       "[7876 rows x 4 columns]"
      ]
     },
     "execution_count": 275,
     "metadata": {},
     "output_type": "execute_result"
    }
   ],
   "source": [
    "cars_num"
   ]
  },
  {
   "cell_type": "code",
   "execution_count": 276,
   "metadata": {},
   "outputs": [
    {
     "data": {
      "text/html": [
       "<div>\n",
       "<style scoped>\n",
       "    .dataframe tbody tr th:only-of-type {\n",
       "        vertical-align: middle;\n",
       "    }\n",
       "\n",
       "    .dataframe tbody tr th {\n",
       "        vertical-align: top;\n",
       "    }\n",
       "\n",
       "    .dataframe thead th {\n",
       "        text-align: right;\n",
       "    }\n",
       "</style>\n",
       "<table border=\"1\" class=\"dataframe\">\n",
       "  <thead>\n",
       "    <tr style=\"text-align: right;\">\n",
       "      <th></th>\n",
       "      <th>year</th>\n",
       "      <th>odometer</th>\n",
       "      <th>F1</th>\n",
       "      <th>F3</th>\n",
       "    </tr>\n",
       "  </thead>\n",
       "  <tbody>\n",
       "    <tr>\n",
       "      <th>count</th>\n",
       "      <td>7876.000000</td>\n",
       "      <td>7876.000000</td>\n",
       "      <td>7876.000000</td>\n",
       "      <td>7876.000000</td>\n",
       "    </tr>\n",
       "    <tr>\n",
       "      <th>mean</th>\n",
       "      <td>11.193499</td>\n",
       "      <td>111360.633229</td>\n",
       "      <td>1510.937405</td>\n",
       "      <td>0.099735</td>\n",
       "    </tr>\n",
       "    <tr>\n",
       "      <th>std</th>\n",
       "      <td>8.813936</td>\n",
       "      <td>62290.957888</td>\n",
       "      <td>2066.933655</td>\n",
       "      <td>0.100648</td>\n",
       "    </tr>\n",
       "    <tr>\n",
       "      <th>min</th>\n",
       "      <td>0.000000</td>\n",
       "      <td>0.000000</td>\n",
       "      <td>4.000000</td>\n",
       "      <td>-0.308592</td>\n",
       "    </tr>\n",
       "    <tr>\n",
       "      <th>25%</th>\n",
       "      <td>6.000000</td>\n",
       "      <td>71495.000000</td>\n",
       "      <td>309.000000</td>\n",
       "      <td>0.030096</td>\n",
       "    </tr>\n",
       "    <tr>\n",
       "      <th>50%</th>\n",
       "      <td>9.000000</td>\n",
       "      <td>111360.633229</td>\n",
       "      <td>690.500000</td>\n",
       "      <td>0.100558</td>\n",
       "    </tr>\n",
       "    <tr>\n",
       "      <th>75%</th>\n",
       "      <td>14.000000</td>\n",
       "      <td>147635.250000</td>\n",
       "      <td>1965.250000</td>\n",
       "      <td>0.167149</td>\n",
       "    </tr>\n",
       "    <tr>\n",
       "      <th>max</th>\n",
       "      <td>99.000000</td>\n",
       "      <td>999999.000000</td>\n",
       "      <td>21466.000000</td>\n",
       "      <td>0.526848</td>\n",
       "    </tr>\n",
       "  </tbody>\n",
       "</table>\n",
       "</div>"
      ],
      "text/plain": [
       "              year       odometer            F1           F3\n",
       "count  7876.000000    7876.000000   7876.000000  7876.000000\n",
       "mean     11.193499  111360.633229   1510.937405     0.099735\n",
       "std       8.813936   62290.957888   2066.933655     0.100648\n",
       "min       0.000000       0.000000      4.000000    -0.308592\n",
       "25%       6.000000   71495.000000    309.000000     0.030096\n",
       "50%       9.000000  111360.633229    690.500000     0.100558\n",
       "75%      14.000000  147635.250000   1965.250000     0.167149\n",
       "max      99.000000  999999.000000  21466.000000     0.526848"
      ]
     },
     "execution_count": 276,
     "metadata": {},
     "output_type": "execute_result"
    }
   ],
   "source": [
    "cars_num.describe()"
   ]
  },
  {
   "cell_type": "code",
   "execution_count": 277,
   "metadata": {},
   "outputs": [],
   "source": [
    "from sklearn.pipeline import Pipeline\n",
    "from sklearn.preprocessing import StandardScaler\n",
    "\n",
    "num_pipeline = Pipeline([\n",
    "        ('std_scaler', StandardScaler()),\n",
    "    ])\n",
    "\n",
    "cars_num_tr = num_pipeline.fit_transform(cars_num)"
   ]
  },
  {
   "cell_type": "code",
   "execution_count": 278,
   "metadata": {},
   "outputs": [
    {
     "data": {
      "text/html": [
       "<div>\n",
       "<style scoped>\n",
       "    .dataframe tbody tr th:only-of-type {\n",
       "        vertical-align: middle;\n",
       "    }\n",
       "\n",
       "    .dataframe tbody tr th {\n",
       "        vertical-align: top;\n",
       "    }\n",
       "\n",
       "    .dataframe thead th {\n",
       "        text-align: right;\n",
       "    }\n",
       "</style>\n",
       "<table border=\"1\" class=\"dataframe\">\n",
       "  <thead>\n",
       "    <tr style=\"text-align: right;\">\n",
       "      <th></th>\n",
       "      <th>year</th>\n",
       "      <th>odometer</th>\n",
       "      <th>F1</th>\n",
       "      <th>F3</th>\n",
       "    </tr>\n",
       "  </thead>\n",
       "  <tbody>\n",
       "    <tr>\n",
       "      <th>5694</th>\n",
       "      <td>14.0</td>\n",
       "      <td>152390.000000</td>\n",
       "      <td>1346</td>\n",
       "      <td>0.072477</td>\n",
       "    </tr>\n",
       "    <tr>\n",
       "      <th>636</th>\n",
       "      <td>9.0</td>\n",
       "      <td>219000.000000</td>\n",
       "      <td>122</td>\n",
       "      <td>0.194140</td>\n",
       "    </tr>\n",
       "    <tr>\n",
       "      <th>1951</th>\n",
       "      <td>7.0</td>\n",
       "      <td>106213.000000</td>\n",
       "      <td>540</td>\n",
       "      <td>0.079524</td>\n",
       "    </tr>\n",
       "    <tr>\n",
       "      <th>5752</th>\n",
       "      <td>6.0</td>\n",
       "      <td>163000.000000</td>\n",
       "      <td>3337</td>\n",
       "      <td>0.239256</td>\n",
       "    </tr>\n",
       "    <tr>\n",
       "      <th>7397</th>\n",
       "      <td>49.0</td>\n",
       "      <td>111360.633229</td>\n",
       "      <td>455</td>\n",
       "      <td>-0.013003</td>\n",
       "    </tr>\n",
       "    <tr>\n",
       "      <th>...</th>\n",
       "      <td>...</td>\n",
       "      <td>...</td>\n",
       "      <td>...</td>\n",
       "      <td>...</td>\n",
       "    </tr>\n",
       "    <tr>\n",
       "      <th>5824</th>\n",
       "      <td>13.0</td>\n",
       "      <td>163111.000000</td>\n",
       "      <td>832</td>\n",
       "      <td>0.011655</td>\n",
       "    </tr>\n",
       "    <tr>\n",
       "      <th>5275</th>\n",
       "      <td>13.0</td>\n",
       "      <td>186189.000000</td>\n",
       "      <td>95</td>\n",
       "      <td>0.047308</td>\n",
       "    </tr>\n",
       "    <tr>\n",
       "      <th>5476</th>\n",
       "      <td>31.0</td>\n",
       "      <td>56233.000000</td>\n",
       "      <td>229</td>\n",
       "      <td>0.164413</td>\n",
       "    </tr>\n",
       "    <tr>\n",
       "      <th>873</th>\n",
       "      <td>9.0</td>\n",
       "      <td>111360.633229</td>\n",
       "      <td>4509</td>\n",
       "      <td>0.020210</td>\n",
       "    </tr>\n",
       "    <tr>\n",
       "      <th>7384</th>\n",
       "      <td>31.0</td>\n",
       "      <td>177870.000000</td>\n",
       "      <td>502</td>\n",
       "      <td>0.060996</td>\n",
       "    </tr>\n",
       "  </tbody>\n",
       "</table>\n",
       "<p>7876 rows × 4 columns</p>\n",
       "</div>"
      ],
      "text/plain": [
       "      year       odometer    F1        F3\n",
       "5694  14.0  152390.000000  1346  0.072477\n",
       "636    9.0  219000.000000   122  0.194140\n",
       "1951   7.0  106213.000000   540  0.079524\n",
       "5752   6.0  163000.000000  3337  0.239256\n",
       "7397  49.0  111360.633229   455 -0.013003\n",
       "...    ...            ...   ...       ...\n",
       "5824  13.0  163111.000000   832  0.011655\n",
       "5275  13.0  186189.000000    95  0.047308\n",
       "5476  31.0   56233.000000   229  0.164413\n",
       "873    9.0  111360.633229  4509  0.020210\n",
       "7384  31.0  177870.000000   502  0.060996\n",
       "\n",
       "[7876 rows x 4 columns]"
      ]
     },
     "execution_count": 278,
     "metadata": {},
     "output_type": "execute_result"
    }
   ],
   "source": [
    "cars_num"
   ]
  },
  {
   "cell_type": "code",
   "execution_count": 279,
   "metadata": {},
   "outputs": [
    {
     "name": "stdout",
     "output_type": "stream",
     "text": [
      "['year', 'odometer', 'F1', 'F3']\n"
     ]
    }
   ],
   "source": [
    "from sklearn.compose import ColumnTransformer\n",
    "from sklearn.preprocessing import OneHotEncoder\n",
    "\n",
    "num_attr = list(cars_num)\n",
    "print(num_attr)\n",
    "cat_attr = [\"condition\", \"cylinders\", \"transmission\", \"type\", \"paint_color\", \"manufacturer\", \"F4\"]\n",
    "\n",
    "full_pipeline = ColumnTransformer([\n",
    "        (\"num\", num_pipeline, num_attr),\n",
    "        (\"cat\", OneHotEncoder(), cat_attr),\n",
    "    ])\n",
    "\n",
    "cars_prepared = full_pipeline.fit_transform(cars)"
   ]
  },
  {
   "cell_type": "code",
   "execution_count": 280,
   "metadata": {},
   "outputs": [
    {
     "data": {
      "text/plain": [
       "array([[-0.31843649,  0.65871473, -0.07980318, -0.27085153,  1.        ,\n",
       "         0.        ,  0.        ,  0.        ,  0.        ,  0.        ,\n",
       "         1.        ,  1.        ,  0.        ,  0.        ,  1.        ,\n",
       "         0.        ,  0.        ,  0.        ,  0.        ,  0.        ,\n",
       "         0.        ,  1.        ,  1.        ,  0.        ,  0.        ,\n",
       "         1.        ,  0.        ],\n",
       "       [ 0.24888295,  1.72811921, -0.67202234,  0.93802791,  0.        ,\n",
       "         0.        ,  1.        ,  0.        ,  1.        ,  0.        ,\n",
       "         0.        ,  1.        ,  0.        ,  0.        ,  0.        ,\n",
       "         1.        ,  0.        ,  0.        ,  0.        ,  0.        ,\n",
       "         1.        ,  0.        ,  0.        ,  1.        ,  0.        ,\n",
       "         1.        ,  0.        ],\n",
       "       [ 0.47581073, -0.08264378, -0.46977756, -0.20082594,  1.        ,\n",
       "         0.        ,  0.        ,  0.        ,  1.        ,  0.        ,\n",
       "         0.        ,  1.        ,  0.        ,  0.        ,  0.        ,\n",
       "         1.        ,  0.        ,  1.        ,  0.        ,  0.        ,\n",
       "         0.        ,  0.        ,  1.        ,  0.        ,  1.        ,\n",
       "         0.        ,  0.        ],\n",
       "       [ 0.58927462,  0.82905525,  0.88352063,  1.38630708,  1.        ,\n",
       "         0.        ,  0.        ,  0.        ,  1.        ,  0.        ,\n",
       "         0.        ,  1.        ,  0.        ,  0.        ,  0.        ,\n",
       "         1.        ,  0.        ,  0.        ,  0.        ,  0.        ,\n",
       "         0.        ,  1.        ,  1.        ,  0.        ,  0.        ,\n",
       "         1.        ,  0.        ]])"
      ]
     },
     "execution_count": 280,
     "metadata": {},
     "output_type": "execute_result"
    }
   ],
   "source": [
    "cars_prepared[0:4]"
   ]
  },
  {
   "cell_type": "code",
   "execution_count": 281,
   "metadata": {},
   "outputs": [
    {
     "data": {
      "text/plain": [
       "array([[-3.18436489e-01,  6.58714734e-01, -7.98031791e-02, ...,\n",
       "         0.00000000e+00,  1.00000000e+00,  0.00000000e+00],\n",
       "       [ 2.48882953e-01,  1.72811921e+00, -6.72022339e-01, ...,\n",
       "         0.00000000e+00,  1.00000000e+00,  0.00000000e+00],\n",
       "       [ 4.75810730e-01, -8.26437773e-02, -4.69777560e-01, ...,\n",
       "         1.00000000e+00,  0.00000000e+00,  0.00000000e+00],\n",
       "       ...,\n",
       "       [-2.24732259e+00, -8.85058364e-01, -6.20251546e-01, ...,\n",
       "         0.00000000e+00,  0.00000000e+00,  1.00000000e+00],\n",
       "       [ 2.48882953e-01,  2.33626832e-16,  1.45058016e+00, ...,\n",
       "         0.00000000e+00,  1.00000000e+00,  0.00000000e+00],\n",
       "       [-2.24732259e+00,  1.06778884e+00, -4.88163449e-01, ...,\n",
       "         0.00000000e+00,  0.00000000e+00,  1.00000000e+00]])"
      ]
     },
     "execution_count": 281,
     "metadata": {},
     "output_type": "execute_result"
    }
   ],
   "source": [
    "cars.describe()\n",
    "cars_prepared"
   ]
  },
  {
   "cell_type": "code",
   "execution_count": 282,
   "metadata": {},
   "outputs": [
    {
     "data": {
      "text/plain": [
       "LinearRegression()"
      ]
     },
     "execution_count": 282,
     "metadata": {},
     "output_type": "execute_result"
    }
   ],
   "source": [
    "from sklearn.linear_model import LinearRegression\n",
    "from sklearn.metrics import r2_score\n",
    "\n",
    "lin_reg = LinearRegression()\n",
    "lin_reg.fit(cars_prepared, cars_labels)"
   ]
  },
  {
   "cell_type": "code",
   "execution_count": 283,
   "metadata": {},
   "outputs": [
    {
     "name": "stdout",
     "output_type": "stream",
     "text": [
      "Predictions: [15193.51699019   811.87371759  9036.90682101  6480.20458576\n",
      "  1792.89315872]\n",
      "Labels: [9916.0, 5517.0, 7517.0, 10212.0, 5928.0]\n"
     ]
    }
   ],
   "source": [
    "some_data = cars.iloc[:5]\n",
    "some_labels = cars_labels.iloc[:5]\n",
    "some_data_prepared = full_pipeline.transform(some_data)\n",
    "print(\"Predictions:\", lin_reg.predict(some_data_prepared))\n",
    "\n",
    "print(\"Labels:\", list(some_labels))"
   ]
  },
  {
   "cell_type": "code",
   "execution_count": 284,
   "metadata": {},
   "outputs": [
    {
     "name": "stdout",
     "output_type": "stream",
     "text": [
      "R^2: 0.4868693993071137\n"
     ]
    },
    {
     "data": {
      "text/plain": [
       "8540.225746991948"
      ]
     },
     "execution_count": 284,
     "metadata": {},
     "output_type": "execute_result"
    }
   ],
   "source": [
    "from sklearn.metrics import mean_squared_error\n",
    "import numpy as np\n",
    "car_predictions = lin_reg.predict(cars_prepared)\n",
    "lin_mse = mean_squared_error(cars_labels, car_predictions)\n",
    "lin_rmse = np.sqrt(lin_mse)\n",
    "print(\"R^2:\", r2_score(cars_labels, car_predictions))\n",
    "lin_rmse"
   ]
  },
  {
   "cell_type": "code",
   "execution_count": 285,
   "metadata": {},
   "outputs": [
    {
     "name": "stdout",
     "output_type": "stream",
     "text": [
      "Scores: [8765.15828603 9203.87451962 8936.99612472 8828.77855608 7967.43388101\n",
      " 8082.83388201 8299.41679716 7908.26037606 8550.09243431 9096.47004419]\n",
      "Mean: 8563.93149011927\n",
      "Standard deviation: 450.58476052658864\n"
     ]
    }
   ],
   "source": [
    "from sklearn.model_selection import cross_val_score\n",
    "\n",
    "def display_scores(scores):\n",
    "    print(\"Scores:\", scores)\n",
    "    print(\"Mean:\", scores.mean())\n",
    "    print(\"Standard deviation:\", scores.std())\n",
    "\n",
    "lin_scores = cross_val_score(lin_reg, cars_prepared, cars_labels,\n",
    "                              scoring=\"neg_mean_squared_error\", cv=10)\n",
    "\n",
    "lin_rmse_scores = np.sqrt(-lin_scores)\n",
    "display_scores(lin_rmse_scores)"
   ]
  },
  {
   "cell_type": "code",
   "execution_count": 310,
   "metadata": {},
   "outputs": [
    {
     "data": {
      "text/plain": [
       "Ttest_indResult(statistic=0.0, pvalue=1.0)"
      ]
     },
     "execution_count": 310,
     "metadata": {},
     "output_type": "execute_result"
    }
   ],
   "source": [
    "from sklearn import datasets\n",
    "from scipy import stats \n",
    "lin_reg.coef_\n",
    "stats.ttest_ind(cars_labels, car_predictions)"
   ]
  },
  {
   "cell_type": "code",
   "execution_count": 287,
   "metadata": {},
   "outputs": [
    {
     "data": {
      "text/plain": [
       "14316.503301168106"
      ]
     },
     "execution_count": 287,
     "metadata": {},
     "output_type": "execute_result"
    }
   ],
   "source": [
    "cars_labels.mean()"
   ]
  },
  {
   "cell_type": "code",
   "execution_count": 288,
   "metadata": {},
   "outputs": [
    {
     "name": "stdout",
     "output_type": "stream",
     "text": [
      "Predictions: [9345.47 6503.7  8088.55 9697.1  5046.65]\n",
      "Labels: [9916.0, 5517.0, 7517.0, 10212.0, 5928.0]\n",
      "R^2: 0.9707627056788855\n"
     ]
    },
    {
     "data": {
      "text/plain": [
       "2038.56227570009"
      ]
     },
     "execution_count": 288,
     "metadata": {},
     "output_type": "execute_result"
    }
   ],
   "source": [
    "from sklearn.ensemble import RandomForestRegressor\n",
    "forest_reg = RandomForestRegressor()\n",
    "forest_reg.fit(cars_prepared, cars_labels)\n",
    "\n",
    "some_data = cars.iloc[:5]\n",
    "some_labels = cars_labels.iloc[:5]\n",
    "some_data_prepared = full_pipeline.transform(some_data)\n",
    "print(\"Predictions:\", forest_reg.predict(some_data_prepared))\n",
    "\n",
    "print(\"Labels:\", list(some_labels))\n",
    "\n",
    "car_predictions = forest_reg.predict(cars_prepared)\n",
    "forest_mse = mean_squared_error(cars_labels, car_predictions)\n",
    "forest_rmse = np.sqrt(forest_mse)\n",
    "\n",
    "print(\"R^2:\", r2_score(cars_labels, forest_reg.predict(cars_prepared)))\n",
    "forest_rmse"
   ]
  },
  {
   "cell_type": "code",
   "execution_count": 289,
   "metadata": {},
   "outputs": [
    {
     "name": "stdout",
     "output_type": "stream",
     "text": [
      "Scores: [5599.1935934  6465.77878998 5245.02478468 5503.86545001 4978.44736091\n",
      " 5534.60035687 5245.13375255 4708.92600777 6128.18742446 5586.80294599]\n",
      "Mean: 5499.596046664692\n",
      "Standard deviation: 487.20807746692174\n"
     ]
    }
   ],
   "source": [
    "forest_scores = cross_val_score(forest_reg, cars_prepared, cars_labels,\n",
    "                              scoring=\"neg_mean_squared_error\", cv=10)\n",
    "forest_rmse_scores = np.sqrt(-forest_scores)\n",
    "display_scores(forest_rmse_scores)"
   ]
  },
  {
   "cell_type": "code",
   "execution_count": 290,
   "metadata": {},
   "outputs": [
    {
     "data": {
      "text/plain": [
       "GridSearchCV(cv=5, estimator=RandomForestRegressor(),\n",
       "             param_grid=[{'max_features': [2, 14, 16, 18],\n",
       "                          'n_estimators': [3, 10, 30]},\n",
       "                         {'bootstrap': [False], 'max_features': [2, 3, 4],\n",
       "                          'n_estimators': [3, 10]}],\n",
       "             return_train_score=True, scoring='neg_mean_squared_error')"
      ]
     },
     "execution_count": 290,
     "metadata": {},
     "output_type": "execute_result"
    }
   ],
   "source": [
    "from sklearn.model_selection import GridSearchCV\n",
    "\n",
    "param_grid = [\n",
    "    {'n_estimators': [3, 10, 30], 'max_features': [2, 14, 16, 18]},\n",
    "    {'bootstrap': [False], 'n_estimators': [3, 10], 'max_features': [2, 3, 4]},\n",
    "  ]\n",
    "\n",
    "forest_reg = RandomForestRegressor()\n",
    "\n",
    "grid_search = GridSearchCV(forest_reg, param_grid, cv=5,\n",
    "                           scoring='neg_mean_squared_error',\n",
    "                           return_train_score=True)\n",
    "\n",
    "grid_search.fit(cars_prepared, cars_labels)"
   ]
  },
  {
   "cell_type": "code",
   "execution_count": 291,
   "metadata": {},
   "outputs": [
    {
     "data": {
      "text/plain": [
       "{'max_features': 14, 'n_estimators': 30}"
      ]
     },
     "execution_count": 291,
     "metadata": {},
     "output_type": "execute_result"
    }
   ],
   "source": [
    "grid_search.best_params_"
   ]
  },
  {
   "cell_type": "code",
   "execution_count": 292,
   "metadata": {},
   "outputs": [
    {
     "name": "stdout",
     "output_type": "stream",
     "text": [
      "7211.239395074917 {'max_features': 2, 'n_estimators': 3}\n",
      "6526.719470173397 {'max_features': 2, 'n_estimators': 10}\n",
      "6226.640341320569 {'max_features': 2, 'n_estimators': 30}\n",
      "6479.992685585325 {'max_features': 14, 'n_estimators': 3}\n",
      "5692.255076898895 {'max_features': 14, 'n_estimators': 10}\n",
      "5506.710976873014 {'max_features': 14, 'n_estimators': 30}\n",
      "6430.949859506707 {'max_features': 16, 'n_estimators': 3}\n",
      "5754.3359582332005 {'max_features': 16, 'n_estimators': 10}\n",
      "5541.141736722396 {'max_features': 16, 'n_estimators': 30}\n",
      "6512.6108184013665 {'max_features': 18, 'n_estimators': 3}\n",
      "5769.351727058246 {'max_features': 18, 'n_estimators': 10}\n",
      "5575.309353880901 {'max_features': 18, 'n_estimators': 30}\n",
      "7272.16354215948 {'bootstrap': False, 'max_features': 2, 'n_estimators': 3}\n",
      "6416.059758974233 {'bootstrap': False, 'max_features': 2, 'n_estimators': 10}\n",
      "6925.289928505396 {'bootstrap': False, 'max_features': 3, 'n_estimators': 3}\n",
      "6107.4664372656025 {'bootstrap': False, 'max_features': 3, 'n_estimators': 10}\n",
      "6689.391542122436 {'bootstrap': False, 'max_features': 4, 'n_estimators': 3}\n",
      "5890.055735459128 {'bootstrap': False, 'max_features': 4, 'n_estimators': 10}\n"
     ]
    }
   ],
   "source": [
    "cvres = grid_search.cv_results_\n",
    "for mean_score, params in zip(cvres[\"mean_test_score\"], cvres[\"params\"]):\n",
    "    print(np.sqrt(-mean_score), params)"
   ]
  },
  {
   "cell_type": "code",
   "execution_count": 328,
   "metadata": {},
   "outputs": [
    {
     "data": {
      "text/plain": [
       "[(0.38425780284940253, 'year'),\n",
       " (0.20447806229148272, 'odometer'),\n",
       " (0.07868915138401418, 'F1'),\n",
       " (0.055529963402093076, 'F3'),\n",
       " (0.008289472363100412, 'c'),\n",
       " (0.007647080550325011, 'a'),\n",
       " (0.0035507541985048113, 'b')]"
      ]
     },
     "execution_count": 328,
     "metadata": {},
     "output_type": "execute_result"
    }
   ],
   "source": [
    "feature_importances = grid_search.best_estimator_.feature_importances_\n",
    "cat_encoder = full_pipeline.named_transformers_[\"cat\"]\n",
    "cat_one_hot_attribs = list(cat_encoder.categories_[6])\n",
    "attributes = num_attr + cat_one_hot_attribs\n",
    "sorted(zip(feature_importances, attributes), reverse=True)"
   ]
  },
  {
   "cell_type": "code",
   "execution_count": 294,
   "metadata": {},
   "outputs": [],
   "source": [
    "alphas = 10**np.linspace(10,-2,100)*0.5"
   ]
  },
  {
   "cell_type": "code",
   "execution_count": 295,
   "metadata": {},
   "outputs": [
    {
     "data": {
      "text/plain": [
       "0.015269277544167062"
      ]
     },
     "execution_count": 295,
     "metadata": {},
     "output_type": "execute_result"
    }
   ],
   "source": [
    "from sklearn.linear_model import Ridge, RidgeCV, Lasso, LassoCV\n",
    "\n",
    "ridgecv = RidgeCV(alphas = alphas, scoring = 'neg_mean_squared_error', normalize = True)\n",
    "ridgecv.fit(cars_prepared, cars_labels)\n",
    "ridgecv.alpha_"
   ]
  },
  {
   "cell_type": "code",
   "execution_count": 296,
   "metadata": {},
   "outputs": [
    {
     "name": "stdout",
     "output_type": "stream",
     "text": [
      "Predictions: [15209.09439389   914.78239789  9089.42594063  6609.22579143\n",
      "  1862.59835943]\n",
      "Labels: [9916.0, 5517.0, 7517.0, 10212.0, 5928.0]\n",
      "R^2: 0.48680557408776937\n"
     ]
    },
    {
     "data": {
      "text/plain": [
       "8540.756864052606"
      ]
     },
     "execution_count": 296,
     "metadata": {},
     "output_type": "execute_result"
    }
   ],
   "source": [
    "ridge_reg = Ridge(alpha = ridgecv.alpha_, normalize = True)\n",
    "ridge_reg.fit(cars_prepared, cars_labels)\n",
    "\n",
    "some_data = cars.iloc[:5]\n",
    "some_labels = cars_labels.iloc[:5]\n",
    "some_data_prepared = full_pipeline.transform(some_data)\n",
    "print(\"Predictions:\", ridge_reg.predict(some_data_prepared))\n",
    "print(\"Labels:\", list(some_labels))\n",
    "car_predictions = ridge_reg.predict(cars_prepared)\n",
    "ridge_mse = mean_squared_error(cars_labels, car_predictions)\n",
    "ridge_rmse = np.sqrt(ridge_mse)\n",
    "\n",
    "print(\"R^2:\", r2_score(cars_labels, car_predictions))\n",
    "ridge_rmse"
   ]
  },
  {
   "cell_type": "code",
   "execution_count": 297,
   "metadata": {},
   "outputs": [
    {
     "name": "stdout",
     "output_type": "stream",
     "text": [
      "Scores: [8752.70292779 9211.74073917 8930.3736051  8821.76223104 7971.44763046\n",
      " 8087.33466024 8294.96067811 7910.54840936 8552.8843445  9104.92549915]\n",
      "Mean: 8563.86807249166\n",
      "Standard deviation: 450.1423020095671\n"
     ]
    }
   ],
   "source": [
    "ridge_scores = cross_val_score(ridge_reg, cars_prepared, cars_labels,\n",
    "                              scoring=\"neg_mean_squared_error\", cv=10)\n",
    "ridge_rmse_scores = np.sqrt(-ridge_scores)\n",
    "display_scores(ridge_rmse_scores)"
   ]
  },
  {
   "cell_type": "code",
   "execution_count": 298,
   "metadata": {},
   "outputs": [
    {
     "data": {
      "text/plain": [
       "array([ 3120.28537976, -4508.70571774,   953.29653188,  1144.73783706,\n",
       "         339.66449798, -5125.83739223,  -948.90668872,  3217.98775128,\n",
       "       -2871.63549146,  1046.96298519,  1748.3370836 , -1187.13085177,\n",
       "        1187.13085177, -1958.11584332,  4117.34558045, -4742.19832234,\n",
       "        3968.63246996,  1367.33326506,   -35.68359665,    86.15415029,\n",
       "        -593.2792315 ,  -672.18913362, -1313.50385302,  1313.50385302,\n",
       "        -268.21033989,   -59.29091028,   341.31802971])"
      ]
     },
     "execution_count": 298,
     "metadata": {},
     "output_type": "execute_result"
    }
   ],
   "source": [
    "ridge_reg.coef_"
   ]
  },
  {
   "cell_type": "code",
   "execution_count": 299,
   "metadata": {},
   "outputs": [],
   "source": [
    "from sklearn.preprocessing import scale \n",
    "\n",
    "lasso = Lasso(max_iter = 30000, normalize = True)\n",
    "coefs = []\n",
    "\n",
    "for a in alphas:\n",
    "    lasso.set_params(alpha=a)\n",
    "    lasso.fit(scale(cars_prepared), cars_labels)\n",
    "    coefs.append(lasso.coef_)"
   ]
  },
  {
   "cell_type": "code",
   "execution_count": 300,
   "metadata": {},
   "outputs": [
    {
     "name": "stdout",
     "output_type": "stream",
     "text": [
      "0.06542206800935042\n",
      "Predictions: [15187.66072144   823.50730237  9052.51580227  6501.4944929\n",
      "  1802.25390542]\n",
      "Labels: [9916.0, 5517.0, 7517.0, 10212.0, 5928.0]\n",
      "R^2: 0.4868650122482364\n"
     ]
    },
    {
     "data": {
      "text/plain": [
       "8540.262254650082"
      ]
     },
     "execution_count": 300,
     "metadata": {},
     "output_type": "execute_result"
    }
   ],
   "source": [
    "lassocv = LassoCV(alphas = None, cv = 10, max_iter = 100000, normalize = True)\n",
    "lassocv.fit(cars_prepared, cars_labels)\n",
    "\n",
    "lasso.set_params(alpha=lassocv.alpha_)\n",
    "print(lassocv.alpha_)\n",
    "lasso.fit(cars_prepared, cars_labels)\n",
    "\n",
    "some_data = cars.iloc[:5]\n",
    "some_labels = cars_labels.iloc[:5]\n",
    "some_data_prepared = full_pipeline.transform(some_data)\n",
    "print(\"Predictions:\", lasso.predict(some_data_prepared))\n",
    "\n",
    "print(\"Labels:\", list(some_labels))\n",
    "car_predictions = lasso.predict(cars_prepared)\n",
    "lasso_mse = mean_squared_error(cars_labels, car_predictions)\n",
    "lasso_rmse = np.sqrt(lasso_mse)\n",
    "\n",
    "print(\"R^2:\", r2_score(cars_labels, car_predictions))\n",
    "lasso_rmse"
   ]
  },
  {
   "cell_type": "code",
   "execution_count": 301,
   "metadata": {},
   "outputs": [
    {
     "name": "stdout",
     "output_type": "stream",
     "text": [
      "Scores: [8763.40354752 9205.00067051 8937.69369186 8828.8400779  7967.83313623\n",
      " 8082.10908419 8298.36151679 7908.58582182 8550.79392242 9096.51662088]\n",
      "Mean: 8563.91380901199\n",
      "Standard deviation: 450.7709492845097\n"
     ]
    }
   ],
   "source": [
    "lasso_scores = cross_val_score(lasso, cars_prepared, cars_labels,\n",
    "                              scoring=\"neg_mean_squared_error\", cv=10)\n",
    "lasso_rmse_scores = np.sqrt(-lasso_scores)\n",
    "display_scores(lasso_rmse_scores)"
   ]
  },
  {
   "cell_type": "code",
   "execution_count": 302,
   "metadata": {},
   "outputs": [
    {
     "data": {
      "text/plain": [
       "array([ 3.15668448e+03, -4.56707878e+03,  9.44199575e+02,  1.15448105e+03,\n",
       "        0.00000000e+00, -5.44047817e+03, -1.27513029e+03,  2.87476364e+03,\n",
       "       -3.94942348e+03,  0.00000000e+00,  7.11573379e+02, -2.41689228e+03,\n",
       "        1.84850200e-10, -0.00000000e+00,  6.12307683e+03, -2.81221972e+03,\n",
       "        5.97334510e+03,  1.41405559e+03,  0.00000000e+00,  1.11877879e+02,\n",
       "       -5.37623980e+02, -6.46186769e+02, -2.65545817e+03,  0.00000000e+00,\n",
       "       -2.04754031e+02,  0.00000000e+00,  3.97872814e+02])"
      ]
     },
     "execution_count": 302,
     "metadata": {},
     "output_type": "execute_result"
    }
   ],
   "source": [
    "lasso.coef_"
   ]
  },
  {
   "cell_type": "code",
   "execution_count": 341,
   "metadata": {},
   "outputs": [
    {
     "name": "stdout",
     "output_type": "stream",
     "text": [
      "R^2: 0.48685561799835986\n"
     ]
    },
    {
     "data": {
      "text/plain": [
       "8540.340429976603"
      ]
     },
     "execution_count": 341,
     "metadata": {},
     "output_type": "execute_result"
    }
   ],
   "source": [
    "from sklearn.linear_model import ElasticNet\n",
    "elastic_reg = ElasticNet(alpha=1.0, l1_ratio=.999)\n",
    "\n",
    "elastic_reg.fit(cars_prepared, cars_labels)\n",
    "\n",
    "car_predictions = elastic_reg.predict(cars_prepared)\n",
    "elastic_mse = mean_squared_error(cars_labels, car_predictions)\n",
    "elastic_rmse = np.sqrt(elastic_mse)\n",
    "\n",
    "print(\"R^2:\", r2_score(cars_labels, car_predictions))\n",
    "elastic_rmse"
   ]
  },
  {
   "cell_type": "code",
   "execution_count": 342,
   "metadata": {},
   "outputs": [
    {
     "name": "stdout",
     "output_type": "stream",
     "text": [
      "Scores: [8761.822011   9206.17319448 8939.17839706 8828.57008552 7967.4453476\n",
      " 8082.42006509 8298.925397   7907.69815913 8551.00265966 9095.39426716]\n",
      "Mean: 8563.862958370062\n",
      "Standard deviation: 450.95654649002495\n"
     ]
    }
   ],
   "source": [
    "# evaluate model\n",
    "elastic_scores = cross_val_score(elastic_reg, cars_prepared, cars_labels, scoring='neg_mean_squared_error', cv=10, n_jobs=-1)\n",
    "\n",
    "elastic_rmse_scores = np.sqrt(-elastic_scores)\n",
    "display_scores(elastic_rmse_scores)"
   ]
  },
  {
   "cell_type": "code",
   "execution_count": 343,
   "metadata": {},
   "outputs": [
    {
     "data": {
      "text/plain": [
       "array([ 3163.35101695, -4571.14344982,   948.63732936,  1158.86872365,\n",
       "         931.06083784, -4377.76576039,  -342.12106536,  3778.5446124 ,\n",
       "       -3229.04247158,   722.49724695,  1452.26652813, -1198.30412358,\n",
       "        1198.30922411, -2315.48037209,  3773.64523875, -5113.61234405,\n",
       "        3633.12782893,  1406.39749787,    -0.        ,   113.64443798,\n",
       "        -547.57857112,  -652.22546235, -1322.22558734,  1322.12433579,\n",
       "        -211.452106  ,    -0.        ,   400.72270936])"
      ]
     },
     "execution_count": 343,
     "metadata": {},
     "output_type": "execute_result"
    }
   ],
   "source": [
    "elastic_reg.coef_"
   ]
  },
  {
   "cell_type": "code",
   "execution_count": 306,
   "metadata": {},
   "outputs": [
    {
     "name": "stdout",
     "output_type": "stream",
     "text": [
      "                            OLS Regression Results                            \n",
      "==============================================================================\n",
      "Dep. Variable:                  price   R-squared:                       0.487\n",
      "Model:                            OLS   Adj. R-squared:                  0.486\n",
      "Method:                 Least Squares   F-statistic:                     372.6\n",
      "Date:                Mon, 08 Feb 2021   Prob (F-statistic):               0.00\n",
      "Time:                        22:32:01   Log-Likelihood:                -82473.\n",
      "No. Observations:                7876   AIC:                         1.650e+05\n",
      "Df Residuals:                    7855   BIC:                         1.651e+05\n",
      "Df Model:                          20                                         \n",
      "Covariance Type:            nonrobust                                         \n",
      "==============================================================================\n",
      "                 coef    std err          t      P>|t|      [0.025      0.975]\n",
      "------------------------------------------------------------------------------\n",
      "x1          3164.3447    114.826     27.558      0.000    2939.255    3389.434\n",
      "x2         -4568.6397    105.479    -43.313      0.000   -4775.407   -4361.873\n",
      "x3           947.7742    100.999      9.384      0.000     749.790    1145.759\n",
      "x4          1159.7004     96.459     12.023      0.000     970.616    1348.785\n",
      "x5          2699.4632    178.642     15.111      0.000    2349.277    3049.649\n",
      "x6         -2774.5173    406.741     -6.821      0.000   -3571.837   -1977.197\n",
      "x7          1410.2506    184.027      7.663      0.000    1049.509    1770.992\n",
      "x8          5585.6128    265.604     21.030      0.000    5064.957    6106.268\n",
      "x9          -578.5351    191.861     -3.015      0.003    -954.634    -202.436\n",
      "x10         3388.1723    150.230     22.553      0.000    3093.682    3682.663\n",
      "x11         4111.1722    194.978     21.085      0.000    3728.963    4493.381\n",
      "x12         2234.7285    201.972     11.065      0.000    1838.810    2630.647\n",
      "x13         4686.0808    273.764     17.117      0.000    4149.430    5222.732\n",
      "x14         -599.4067    172.104     -3.483      0.000    -936.777    -262.037\n",
      "x15         5541.1198    211.160     26.241      0.000    5127.190    5955.050\n",
      "x16        -3411.3928    206.403    -16.528      0.000   -3815.999   -3006.787\n",
      "x17         5390.4890    194.690     27.688      0.000    5008.844    5772.134\n",
      "x18         2741.5381    196.531     13.950      0.000    2356.285    3126.791\n",
      "x19         1316.6532    227.705      5.782      0.000     870.290    1763.017\n",
      "x20         1440.3036    214.061      6.728      0.000    1020.687    1859.920\n",
      "x21          766.6758    219.581      3.492      0.000     336.239    1197.113\n",
      "x22          655.6385    169.842      3.860      0.000     322.703     988.574\n",
      "x23         2116.0879    170.222     12.431      0.000    1782.407    2449.769\n",
      "x24         4804.7214    214.537     22.396      0.000    4384.171    5225.272\n",
      "x25         2029.9591    141.479     14.348      0.000    1752.623    2307.295\n",
      "x26         2242.1220    139.959     16.020      0.000    1967.764    2516.480\n",
      "x27         2648.7283    144.365     18.347      0.000    2365.734    2931.722\n",
      "==============================================================================\n",
      "Omnibus:                     2814.319   Durbin-Watson:                   2.001\n",
      "Prob(Omnibus):                  0.000   Jarque-Bera (JB):            36240.688\n",
      "Skew:                           1.345   Prob(JB):                         0.00\n",
      "Kurtosis:                      13.159   Cond. No.                     1.43e+16\n",
      "==============================================================================\n",
      "\n",
      "Notes:\n",
      "[1] Standard Errors assume that the covariance matrix of the errors is correctly specified.\n",
      "[2] The smallest eigenvalue is 1.27e-28. This might indicate that there are\n",
      "strong multicollinearity problems or that the design matrix is singular.\n"
     ]
    }
   ],
   "source": [
    "import statsmodels.api as sm\n",
    "\n",
    "result = sm.OLS(cars_labels, cars_prepared).fit()\n",
    "print(result.summary())"
   ]
  },
  {
   "cell_type": "code",
   "execution_count": 307,
   "metadata": {},
   "outputs": [
    {
     "data": {
      "text/html": [
       "<div>\n",
       "<style scoped>\n",
       "    .dataframe tbody tr th:only-of-type {\n",
       "        vertical-align: middle;\n",
       "    }\n",
       "\n",
       "    .dataframe tbody tr th {\n",
       "        vertical-align: top;\n",
       "    }\n",
       "\n",
       "    .dataframe thead th {\n",
       "        text-align: right;\n",
       "    }\n",
       "</style>\n",
       "<table border=\"1\" class=\"dataframe\">\n",
       "  <thead>\n",
       "    <tr style=\"text-align: right;\">\n",
       "      <th></th>\n",
       "      <th>feature</th>\n",
       "      <th>score</th>\n",
       "    </tr>\n",
       "  </thead>\n",
       "  <tbody>\n",
       "    <tr>\n",
       "      <th>0</th>\n",
       "      <td>F1</td>\n",
       "      <td>1.601614</td>\n",
       "    </tr>\n",
       "    <tr>\n",
       "      <th>1</th>\n",
       "      <td>F3</td>\n",
       "      <td>1.983065</td>\n",
       "    </tr>\n",
       "    <tr>\n",
       "      <th>2</th>\n",
       "      <td>odometer</td>\n",
       "      <td>4.355628</td>\n",
       "    </tr>\n",
       "    <tr>\n",
       "      <th>3</th>\n",
       "      <td>year</td>\n",
       "      <td>6.481159</td>\n",
       "    </tr>\n",
       "  </tbody>\n",
       "</table>\n",
       "</div>"
      ],
      "text/plain": [
       "    feature     score\n",
       "0        F1  1.601614\n",
       "1        F3  1.983065\n",
       "2  odometer  4.355628\n",
       "3      year  6.481159"
      ]
     },
     "execution_count": 307,
     "metadata": {},
     "output_type": "execute_result"
    }
   ],
   "source": [
    "from statsmodels.stats.outliers_influence import variance_inflation_factor\n",
    "vif = pd.DataFrame(columns=['feature','score'])\n",
    "features = ['F1', 'F3', 'odometer', 'year']\n",
    "vif[\"feature\"] = features\n",
    "vif[\"score\"] = [variance_inflation_factor(cars[features].values, i) for i in range(len(features))]\n",
    "vif"
   ]
  },
  {
   "cell_type": "code",
   "execution_count": 323,
   "metadata": {},
   "outputs": [
    {
     "data": {
      "text/plain": [
       "8093.942316728112"
      ]
     },
     "execution_count": 323,
     "metadata": {},
     "output_type": "execute_result"
    }
   ],
   "source": [
    "final_model = lasso\n",
    "\n",
    "X_test = test_set.drop(\"price\", axis=1)\n",
    "y_test = test_set[\"price\"].copy()\n",
    "\n",
    "mean = X_test[\"odometer\"].mean()\n",
    "X_test[\"odometer\"].fillna(mean, inplace=True)\n",
    "\n",
    "X_test_prepared = full_pipeline.transform(X_test)\n",
    "\n",
    "final_predictions = final_model.predict(X_test_prepared)\n",
    "\n",
    "final_mse = mean_squared_error(y_test, final_predictions)\n",
    "final_rmse = np.sqrt(final_mse)\n",
    "final_rmse"
   ]
  },
  {
   "cell_type": "code",
   "execution_count": 329,
   "metadata": {},
   "outputs": [
    {
     "data": {
      "text/plain": [
       "8093.577747232047"
      ]
     },
     "execution_count": 329,
     "metadata": {},
     "output_type": "execute_result"
    }
   ],
   "source": [
    "final_model = lin_reg\n",
    "\n",
    "X_test_prepared = full_pipeline.transform(X_test)\n",
    "\n",
    "final_predictions = final_model.predict(X_test_prepared)\n",
    "\n",
    "final_mse = mean_squared_error(y_test, final_predictions)\n",
    "final_rmse = np.sqrt(final_mse)\n",
    "final_rmse"
   ]
  },
  {
   "cell_type": "code",
   "execution_count": 330,
   "metadata": {},
   "outputs": [
    {
     "data": {
      "text/plain": [
       "8095.746141180725"
      ]
     },
     "execution_count": 330,
     "metadata": {},
     "output_type": "execute_result"
    }
   ],
   "source": [
    "final_model = ridge_reg\n",
    "\n",
    "X_test_prepared = full_pipeline.transform(X_test)\n",
    "\n",
    "final_predictions = final_model.predict(X_test_prepared)\n",
    "\n",
    "final_mse = mean_squared_error(y_test, final_predictions)\n",
    "final_rmse = np.sqrt(final_mse)\n",
    "final_rmse"
   ]
  },
  {
   "cell_type": "code",
   "execution_count": 344,
   "metadata": {},
   "outputs": [
    {
     "data": {
      "text/plain": [
       "8092.976286125705"
      ]
     },
     "execution_count": 344,
     "metadata": {},
     "output_type": "execute_result"
    }
   ],
   "source": [
    "final_model = elastic_reg\n",
    "\n",
    "X_test_prepared = full_pipeline.transform(X_test)\n",
    "\n",
    "final_predictions = final_model.predict(X_test_prepared)\n",
    "\n",
    "final_mse = mean_squared_error(y_test, final_predictions)\n",
    "final_rmse = np.sqrt(final_mse)\n",
    "final_rmse"
   ]
  },
  {
   "cell_type": "code",
   "execution_count": null,
   "metadata": {},
   "outputs": [],
   "source": []
  }
 ],
 "metadata": {
  "kernelspec": {
   "display_name": "Python 3",
   "language": "python",
   "name": "python3"
  },
  "language_info": {
   "codemirror_mode": {
    "name": "ipython",
    "version": 3
   },
   "file_extension": ".py",
   "mimetype": "text/x-python",
   "name": "python",
   "nbconvert_exporter": "python",
   "pygments_lexer": "ipython3",
   "version": "3.8.5"
  }
 },
 "nbformat": 4,
 "nbformat_minor": 4
}
